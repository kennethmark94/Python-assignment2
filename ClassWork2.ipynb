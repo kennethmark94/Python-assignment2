{
 "cells": [
  {
   "cell_type": "markdown",
   "id": "d752b5de",
   "metadata": {},
   "source": [
    "# Assignment 1\n"
   ]
  },
  {
   "cell_type": "code",
   "execution_count": 13,
   "id": "8e0218c0",
   "metadata": {},
   "outputs": [
    {
     "name": "stdout",
     "output_type": "stream",
     "text": [
      "[4, 5, 3, 6, 5, 5, 3, 3, 4, 5, 3, 6, 4, 5, 4, 6, 4, 4, 3, 4, 3, 3, 4, 6, 5, 6, 5, 6, 3, 6, 4, 6, 3, 3, 5, 4, 6, 6, 5, 4, 4, 4, 4, 5, 5, 5, 4, 5, 5, 5]\n"
     ]
    }
   ],
   "source": [
    "# number1\n",
    "import random\n",
    "\n",
    "integer = []\n",
    "for i in range(0, 50):\n",
    "    num = random.randint(3, 6)\n",
    "    integer.append(num)\n",
    "print(integer)\n",
    "    \n",
    "\n",
    "\n"
   ]
  },
  {
   "cell_type": "code",
   "execution_count": 14,
   "id": "900fa101",
   "metadata": {},
   "outputs": [
    {
     "name": "stdout",
     "output_type": "stream",
     "text": [
      "6\n",
      "3\n",
      "216\n"
     ]
    }
   ],
   "source": [
    "# number2\n",
    "random_number = []\n",
    "x = random.randint(1, 50)\n",
    "y = random.randint(2, 5)\n",
    "\n",
    "print(x)\n",
    "print(y)\n",
    "print(x**y)"
   ]
  },
  {
   "cell_type": "code",
   "execution_count": 15,
   "id": "da8fb90a",
   "metadata": {},
   "outputs": [
    {
     "name": "stdout",
     "output_type": "stream",
     "text": [
      "Kenneth\n",
      "Kenneth\n",
      "Kenneth\n",
      "Kenneth\n",
      "Kenneth\n",
      "Kenneth\n",
      "Kenneth\n",
      "Kenneth\n",
      "Kenneth\n"
     ]
    }
   ],
   "source": [
    "#number3\n",
    "random_number = []\n",
    "for i in range(1, 10):\n",
    "    name = (\"Kenneth\")\n",
    "    random_number.append(name)\n",
    "    print(name)"
   ]
  },
  {
   "cell_type": "code",
   "execution_count": 16,
   "id": "d108d743",
   "metadata": {},
   "outputs": [
    {
     "data": {
      "text/plain": [
       "5.97"
      ]
     },
     "execution_count": 16,
     "metadata": {},
     "output_type": "execute_result"
    }
   ],
   "source": [
    "#number4\n",
    "round(random.uniform(1, 10), 2)"
   ]
  },
  {
   "cell_type": "code",
   "execution_count": 17,
   "id": "f1b731e4",
   "metadata": {},
   "outputs": [
    {
     "name": "stdout",
     "output_type": "stream",
     "text": [
      "[1, 1, 1, 2, 5, 4, 6, 5, 2, 2, 11, 12, 12, 14, 13, 9, 9, 12, 15, 7, 18, 5, 11, 14, 20, 10, 20, 13, 9, 4, 8, 24, 29, 25, 26, 27, 37, 14, 12, 12, 5, 8, 42, 32, 32, 7, 38, 18, 39, 42, 37]\n"
     ]
    }
   ],
   "source": [
    "#number5\n",
    "random_number =[]\n",
    "for i in range(51):\n",
    "    a = random.randint(1, i + 1)\n",
    "    random_number.append(a)\n",
    "print(random_number)"
   ]
  },
  {
   "cell_type": "code",
   "execution_count": 18,
   "id": "cb3dfb3c",
   "metadata": {},
   "outputs": [
    {
     "name": "stdout",
     "output_type": "stream",
     "text": [
      "6\n",
      "3\n",
      "0.3333333333333333\n"
     ]
    }
   ],
   "source": [
    "#number6\n",
    "numb = []\n",
    "print(x)\n",
    "print(y)\n",
    "print((x-y)/(x+y))"
   ]
  },
  {
   "cell_type": "code",
   "execution_count": 19,
   "id": "5dccdcc0",
   "metadata": {},
   "outputs": [
    {
     "name": "stdout",
     "output_type": "stream",
     "text": [
      "write the angle100\n",
      "\n"
     ]
    }
   ],
   "source": [
    "#number7\n",
    "angle = float(input(\"write the angle\"))\n",
    "if angle == \n",
    "print()"
   ]
  },
  {
   "cell_type": "code",
   "execution_count": null,
   "id": "73c2b0b2",
   "metadata": {},
   "outputs": [],
   "source": []
  },
  {
   "cell_type": "markdown",
   "id": "6469798a",
   "metadata": {},
   "source": [
    "# Assignment2"
   ]
  },
  {
   "cell_type": "code",
   "execution_count": 21,
   "id": "70ea9b66",
   "metadata": {},
   "outputs": [
    {
     "name": "stdout",
     "output_type": "stream",
     "text": [
      "Enter number of seconds:200\n",
      "0:03:20\n"
     ]
    }
   ],
   "source": [
    "#number8\n",
    "def convert(seconds):\n",
    "    seconds = seconds % (24 * 3600)\n",
    "    hour = seconds // 3600\n",
    "    seconds %= 3600\n",
    "    minutes = seconds // 60\n",
    "    seconds %= 60\n",
    "    return \"%d:%02d:%02d\" % (hour, minutes, seconds)\n",
    "#prints out how many minutes and seconds\n",
    "n = int(input(\"Enter number of seconds:\"))\n",
    "print(convert(n))"
   ]
  },
  {
   "cell_type": "code",
   "execution_count": 22,
   "id": "28176ff2",
   "metadata": {},
   "outputs": [
    {
     "name": "stdout",
     "output_type": "stream",
     "text": [
      "Enter Hour: 8\n",
      "How many hours ahead? 5\n",
      "New hour: 1 o'clock\n"
     ]
    }
   ],
   "source": [
    "#number9\n",
    "current_hour = int(input(\"Enter Hour: \"))\n",
    "future_hour = int(input(\"How many hours ahead? \"))\n",
    "new_hour = current_hour + future_hour\n",
    "latest_hour = new_hour % 12\n",
    "print(f\"New hour: {latest_hour} o'clock\")"
   ]
  },
  {
   "cell_type": "code",
   "execution_count": null,
   "id": "57ae1157",
   "metadata": {},
   "outputs": [],
   "source": [
    "#number10\n"
   ]
  },
  {
   "cell_type": "code",
   "execution_count": 46,
   "id": "935f0fd0",
   "metadata": {},
   "outputs": [
    {
     "name": "stdout",
     "output_type": "stream",
     "text": [
      "Enter weight in KG: 20\n",
      "441.0 Pounds\n"
     ]
    }
   ],
   "source": [
    "#number11\n",
    "kg = int(input(\"Enter weight in KG: \"))\n",
    "pounds = 22.05\n",
    "result = kg * pounds\n",
    "\n",
    "print(f\"{result} Pounds\")"
   ]
  },
  {
   "cell_type": "code",
   "execution_count": 64,
   "id": "e9bdf18e",
   "metadata": {},
   "outputs": [
    {
     "name": "stdout",
     "output_type": "stream",
     "text": [
      "The Factorial of 6 is 720\n"
     ]
    }
   ],
   "source": [
    "#number12\n",
    "Factorial = 1\n",
    "nums = 6\n",
    "if nums < 0:\n",
    "    print(\"Factorial does not exist for negative numbers\")\n",
    "elif nums == 0:\n",
    "    print(\"Factorial of 0 is 1\")\n",
    "else:\n",
    "    for i in range(1, nums + 1):\n",
    "        Factorial = Factorial * i\n",
    "    print(\"The Factorial of\", nums,\"is\",Factorial)\n",
    "  \n",
    "    \n",
    "    \n",
    "  "
   ]
  },
  {
   "cell_type": "code",
   "execution_count": 67,
   "id": "d4e5813a",
   "metadata": {},
   "outputs": [
    {
     "name": "stdout",
     "output_type": "stream",
     "text": [
      "enter number: 60\n",
      "0.8660254037844386\n",
      "2\n",
      "0.8660254037844387\n"
     ]
    }
   ],
   "source": [
    "#number13\n",
    "random_num = int(input( \"enter number: \"))\n",
    "import math\n",
    "\n",
    "print(math.sin(math.pi/3)) #pi/3 radians is converted to 60degrees\n",
    "print(round(math.tan(math.pi/3)))\n",
    "print(math.cos(math.pi/6))"
   ]
  },
  {
   "cell_type": "code",
   "execution_count": 73,
   "id": "b8f62f0f",
   "metadata": {},
   "outputs": [
    {
     "name": "stdout",
     "output_type": "stream",
     "text": [
      "Enter the angle: 20\n",
      "0.8660254037844386\n"
     ]
    }
   ],
   "source": [
    "#number14\n",
    "int(input( \"Enter the angle: \"))\n",
    "import math\n",
    "print(math.sin(math.pi/3))\n"
   ]
  },
  {
   "cell_type": "markdown",
   "id": "1690d80b",
   "metadata": {},
   "source": [
    "# Assignment4"
   ]
  },
  {
   "cell_type": "code",
   "execution_count": 74,
   "id": "4e477968",
   "metadata": {},
   "outputs": [
    {
     "name": "stdout",
     "output_type": "stream",
     "text": [
      "Enter the number: 9\n",
      "The sum of divisors of 9 is 13\n",
      "[1, 3, 9]\n"
     ]
    }
   ],
   "source": [
    "#number5\n",
    "user_response = int(input(\"Enter the number: \"))\n",
    "sum_of_divisors = 0\n",
    "sum_list = []\n",
    "for i in range(1, user_response + 1):\n",
    "    if user_response % i == 0:\n",
    "        sum_list.append(i)\n",
    "        sum_of_divisors = sum_of_divisors + i\n",
    "print(f\"The sum of divisors of {user_response} is {sum_of_divisors}\")\n",
    "print(sum_list)"
   ]
  },
  {
   "cell_type": "code",
   "execution_count": 75,
   "id": "bb87717c",
   "metadata": {},
   "outputs": [
    {
     "name": "stdout",
     "output_type": "stream",
     "text": [
      "Enter the integer: 9\n",
      "[1, 3, 9]\n",
      "9 is not squarefree\n"
     ]
    }
   ],
   "source": [
    "#number7\n",
    "user_response = int(input(\"Enter the integer: \"))\n",
    "divisors = []\n",
    "perfect = []\n",
    "for i in range(1, user_response + 1):\n",
    "    if user_response % i == 0:\n",
    "        divisors.append(i)\n",
    "print(divisors)\n",
    "for k in divisors:\n",
    "    num = k \n",
    "    j = 1\n",
    "    while j < num:\n",
    "        perfect.append(num)\n",
    "        \n",
    "        j = j + 1\n",
    "if len(perfect) == 0:\n",
    "    print(f\"{user_response} is squarefree\" )\n",
    "else:\n",
    "    print(f\"{user_response} is not squarefree\" )"
   ]
  },
  {
   "cell_type": "code",
   "execution_count": 78,
   "id": "4cafd575",
   "metadata": {},
   "outputs": [
    {
     "name": "stdout",
     "output_type": "stream",
     "text": [
      "Enter value of x: 6\n",
      "Enter value of y: 4\n",
      "Enter value of z: 5\n",
      "4\n",
      "5\n",
      "6\n"
     ]
    }
   ],
   "source": [
    "#number8\n",
    "x = int(input(\"Enter value of x: \"))\n",
    "y = int(input(\"Enter value of y: \"))\n",
    "z = int(input(\"Enter value of z: \"))\n",
    "placeholder = x\n",
    "x = y\n",
    "y = z\n",
    "z = placeholder\n",
    "print(x)\n",
    "print(y)\n",
    "print(z)"
   ]
  },
  {
   "cell_type": "code",
   "execution_count": null,
   "id": "420d6285",
   "metadata": {},
   "outputs": [],
   "source": []
  }
 ],
 "metadata": {
  "kernelspec": {
   "display_name": "Python 3 (ipykernel)",
   "language": "python",
   "name": "python3"
  },
  "language_info": {
   "codemirror_mode": {
    "name": "ipython",
    "version": 3
   },
   "file_extension": ".py",
   "mimetype": "text/x-python",
   "name": "python",
   "nbconvert_exporter": "python",
   "pygments_lexer": "ipython3",
   "version": "3.9.7"
  }
 },
 "nbformat": 4,
 "nbformat_minor": 5
}
